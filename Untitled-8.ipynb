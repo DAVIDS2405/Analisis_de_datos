{
 "cells": [
  {
   "cell_type": "code",
   "execution_count": 5,
   "metadata": {},
   "outputs": [
    {
     "data": {
      "text/plain": [
       "False"
      ]
     },
     "execution_count": 5,
     "metadata": {},
     "output_type": "execute_result"
    }
   ],
   "source": [
    "def mostrarCuadrado_de_par(numero):\n",
    "    if not numero % 2 == 0:\n",
    "        return False\n",
    "    else:\n",
    "        return True\n",
    "\n",
    "mostrarCuadrado_de_par(3)\n",
    "  \n"
   ]
  },
  {
   "cell_type": "code",
   "execution_count": 11,
   "metadata": {},
   "outputs": [
    {
     "name": "stdout",
     "output_type": "stream",
     "text": [
      "el factorial de  10  es  3628800\n"
     ]
    }
   ],
   "source": [
    "def mostrarFactorial (numero):\n",
    "    valor = numero \n",
    "    for i in range(1,numero):\n",
    "        valor *= i\n",
    "    return valor\n",
    "\n",
    "\n",
    "numero = int(input(\"valor a calcular\"))\n",
    "\n",
    "resultado = mostrarFactorial(numero) \n",
    "print(\"el factorial de \", numero, \" es \", resultado)"
   ]
  },
  {
   "cell_type": "code",
   "execution_count": 13,
   "metadata": {},
   "outputs": [
    {
     "name": "stdout",
     "output_type": "stream",
     "text": [
      "hola mundo\n"
     ]
    }
   ],
   "source": [
    "def saludar (): \n",
    "    print(\"hola mundo\")\n",
    "\n",
    "saludar()"
   ]
  }
 ],
 "metadata": {
  "kernelspec": {
   "display_name": "Python 3.10.8 64-bit",
   "language": "python",
   "name": "python3"
  },
  "language_info": {
   "codemirror_mode": {
    "name": "ipython",
    "version": 3
   },
   "file_extension": ".py",
   "mimetype": "text/x-python",
   "name": "python",
   "nbconvert_exporter": "python",
   "pygments_lexer": "ipython3",
   "version": "3.10.8"
  },
  "orig_nbformat": 4,
  "vscode": {
   "interpreter": {
    "hash": "3ef525aed409cc5a13783047c8d4d090b051bbc20387ad523d849e44a70e3fe1"
   }
  }
 },
 "nbformat": 4,
 "nbformat_minor": 2
}
