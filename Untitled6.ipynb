{
 "cells": [
  {
   "cell_type": "code",
   "execution_count": 3,
   "id": "c5c2d406",
   "metadata": {},
   "outputs": [
    {
     "name": "stdout",
     "output_type": "stream",
     "text": [
      "Ingrese una palabra: sometamos o matemos\n",
      "El texto es palindromo!\n"
     ]
    }
   ],
   "source": [
    "igual = 0\n",
    "aux = 0\n",
    "texto = input (\"Ingrese una frase: \")\n",
    "texto2=texto.replace(\" \", \"\")\n",
    "texto3 = texto.lower()\n",
    "\n",
    "for ind in reversed(range(0, len(texto3))):\n",
    "  if texto3[ind].lower() == texto3[aux].lower():\n",
    "    igual += 1\n",
    "  aux += 1\n",
    "if len(texto3) == igual:\n",
    "  print (\"El texto ingresado es palindromo!\")\n",
    "else:\n",
    "  print (\"El texto ingresado no es palindromo!\")"
   ]
  },
  {
   "cell_type": "code",
   "execution_count": 5,
   "id": "f6d38b47",
   "metadata": {},
   "outputs": [
    {
     "name": "stdout",
     "output_type": "stream",
     "text": [
      "Hol  a chico s  , estos son    conce  ptos bá sicos   de Pyt  hon   \n"
     ]
    }
   ],
   "source": [
    "Frase = \"Hol*&a chico@s!!, estos son#$% conce%/ptos&bá%sicos^& de Pyt!#hon*$!\"\n",
    "\n",
    "num = 0\n",
    "while num < len(Frase):\n",
    "    \n",
    "    Frase = Frase.replace(\"*\", \" \")\n",
    "    Frase = Frase.replace(\"&\", \" \")\n",
    "    Frase = Frase.replace(\"@\", \" \")\n",
    "    Frase = Frase.replace(\"!\", \" \")\n",
    "    Frase = Frase.replace(\"#\", \" \")\n",
    "    Frase = Frase.replace(\"$\", \" \")\n",
    "    Frase = Frase.replace(\"%\", \" \")\n",
    "    Frase = Frase.replace(\"^\", \" \")\n",
    "    Frase = Frase.replace(\"/\", \" \")\n",
    "\n",
    "print(Frase)"
   ]
  },
  {
   "cell_type": "code",
   "execution_count": 10,
   "id": "11691704",
   "metadata": {},
   "outputs": [],
   "source": [
    "txt = \"Hol*&a chico@s!!, estos son#$% conce%/ptos&bá%sicos^& de Pyt!#hon*$!\"\n",
    "\n",
    "def processString(txt):\n",
    "  specialChars = \"!#$%^&*()\" \n",
    "  for specialChar in specialChars:\n",
    "    txt = txt.replace(specialChar, '')\n",
    "  print(txt)\n",
    "  txt = txt.replace(',', ' ')\n",
    "  print(txt)"
   ]
  },
  {
   "cell_type": "code",
   "execution_count": null,
   "id": "7a97af2f",
   "metadata": {},
   "outputs": [],
   "source": []
  }
 ],
 "metadata": {
  "kernelspec": {
   "display_name": "Python 3.10.8 64-bit",
   "language": "python",
   "name": "python3"
  },
  "language_info": {
   "codemirror_mode": {
    "name": "ipython",
    "version": 3
   },
   "file_extension": ".py",
   "mimetype": "text/x-python",
   "name": "python",
   "nbconvert_exporter": "python",
   "pygments_lexer": "ipython3",
   "version": "3.10.8"
  },
  "vscode": {
   "interpreter": {
    "hash": "3ef525aed409cc5a13783047c8d4d090b051bbc20387ad523d849e44a70e3fe1"
   }
  }
 },
 "nbformat": 4,
 "nbformat_minor": 5
}
