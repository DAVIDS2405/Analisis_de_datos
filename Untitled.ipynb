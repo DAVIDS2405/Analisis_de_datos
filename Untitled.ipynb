{
 "cells": [
  {
   "cell_type": "code",
   "execution_count": 1,
   "id": "8f016ff6",
   "metadata": {},
   "outputs": [
    {
     "name": "stdout",
     "output_type": "stream",
     "text": [
      "Hundo  Mola\n"
     ]
    }
   ],
   "source": [
    "\n",
    "Cadena1 = input(\"Ingresar la primera cadena: \")\n",
    "Cadena2 = input(\"Ingresar la segunda cadena: \")\n",
    "\n",
    "\n",
    "Remplazo1 = Cadena2.replace(Cadena2[0],Cadena1[0])\n",
    "Remplazo2 = Cadena1.replace(Cadena1[0],Cadena2[0])\n",
    "\n",
    "print (Remplazo1,\"\", Remplazo2)\n"
   ]
  },
  {
   "cell_type": "code",
   "execution_count": null,
   "id": "2eed45a8",
   "metadata": {},
   "outputs": [],
   "source": [
    "igual = 0\n",
    "aux = 0\n",
    "texto = input(\"Ingrese una frase: \")\n",
    "texto2 = texto.replace(\" \", \"\")\n",
    "texto3 = texto.lower()\n",
    "\n",
    "for ind in reversed(range(0, len(texto3))):\n",
    "  if texto3[ind].lower() == texto3[aux].lower():\n",
    "    igual += 1\n",
    "  aux += 1\n",
    "if len(texto3) == igual:\n",
    "  print(\"El texto ingresado es palindromo!\")\n",
    "else:\n",
    "  print(\"El texto ingresado no es palindromo!\")\n"
   ]
  }
 ],
 "metadata": {
  "kernelspec": {
   "display_name": "Python 3.10.8 64-bit",
   "language": "python",
   "name": "python3"
  },
  "language_info": {
   "codemirror_mode": {
    "name": "ipython",
    "version": 3
   },
   "file_extension": ".py",
   "mimetype": "text/x-python",
   "name": "python",
   "nbconvert_exporter": "python",
   "pygments_lexer": "ipython3",
   "version": "3.10.8"
  },
  "vscode": {
   "interpreter": {
    "hash": "3ef525aed409cc5a13783047c8d4d090b051bbc20387ad523d849e44a70e3fe1"
   }
  }
 },
 "nbformat": 4,
 "nbformat_minor": 5
}
