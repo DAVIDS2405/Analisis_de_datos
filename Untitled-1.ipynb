{
 "cells": [
  {
   "cell_type": "markdown",
   "metadata": {},
   "source": [
    "# Holaa"
   ]
  },
  {
   "cell_type": "code",
   "execution_count": 3,
   "metadata": {},
   "outputs": [
    {
     "name": "stdout",
     "output_type": "stream",
     "text": [
      "hello world\n"
     ]
    }
   ],
   "source": [
    "print(\"hello world\")"
   ]
  },
  {
   "cell_type": "markdown",
   "metadata": {},
   "source": [
    "# If else y elif"
   ]
  },
  {
   "cell_type": "code",
   "execution_count": 15,
   "metadata": {},
   "outputs": [
    {
     "name": "stdout",
     "output_type": "stream",
     "text": [
      "3\n"
     ]
    }
   ],
   "source": [
    "valor1 = 1\n",
    "valor2 = 2\n",
    "\n",
    "if valor1 == 1:\n",
    "    suma = valor1 + valor2\n",
    "    print(suma)\n",
    "else:\n",
    "    print(\"tu valor 1 debe de ser igual a 1\")"
   ]
  },
  {
   "cell_type": "code",
   "execution_count": 19,
   "metadata": {},
   "outputs": [
    {
     "name": "stdout",
     "output_type": "stream",
     "text": [
      "8\n"
     ]
    }
   ],
   "source": [
    "valor1 = 3\n",
    "valor2 = 3\n",
    "valor3 = 4\n",
    "valor4 = 4\n",
    "\n",
    "if valor1 == 1:\n",
    "    suma = valor1 + valor2\n",
    "    print(suma)\n",
    "\n",
    "elif valor2 == 2:\n",
    "    suma = valor2 + valor4\n",
    "    print(suma)\n",
    "\n",
    "elif valor3 == 3:\n",
    "    suma = valor3 + valor1\n",
    "    print(suma)\n",
    "\n",
    "elif valor4 == 4:\n",
    "    suma = valor4 + valor3\n",
    "    print(suma)\n",
    "\n"
   ]
  },
  {
   "cell_type": "markdown",
   "metadata": {},
   "source": [
    "# For y while"
   ]
  },
  {
   "cell_type": "code",
   "execution_count": 24,
   "metadata": {},
   "outputs": [
    {
     "name": "stdout",
     "output_type": "stream",
     "text": [
      "Ciudades loop:\n",
      "Ciudad: Tokyo\n",
      "Ciudad: New York\n",
      "Ciudad: Toronto\n",
      "Ciudad: Hong Kong\n",
      "Ciudad: hola\n"
     ]
    }
   ],
   "source": [
    "ciudades = ['Tokyo', 'New York', 'Toronto', 'Hong Kong',\"hola\"]\n",
    "print('Ciudades loop:')\n",
    "for x in ciudades:\n",
    "    print('Ciudad: ' + x)\n"
   ]
  },
  {
   "cell_type": "code",
   "execution_count": null,
   "metadata": {},
   "outputs": [],
   "source": [
    "i = 0\n",
    "while i < 10:\n",
    "    i += 1\n",
    "    print(i)\n"
   ]
  }
 ],
 "metadata": {
  "kernelspec": {
   "display_name": "Python 3.10.8 64-bit",
   "language": "python",
   "name": "python3"
  },
  "language_info": {
   "codemirror_mode": {
    "name": "ipython",
    "version": 3
   },
   "file_extension": ".py",
   "mimetype": "text/x-python",
   "name": "python",
   "nbconvert_exporter": "python",
   "pygments_lexer": "ipython3",
   "version": "3.10.8"
  },
  "orig_nbformat": 4,
  "vscode": {
   "interpreter": {
    "hash": "3ef525aed409cc5a13783047c8d4d090b051bbc20387ad523d849e44a70e3fe1"
   }
  }
 },
 "nbformat": 4,
 "nbformat_minor": 2
}
